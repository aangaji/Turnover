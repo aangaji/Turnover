{
 "cells": [
  {
   "cell_type": "code",
   "execution_count": 1,
   "id": "c53c10ac-e8e1-465b-94a6-93f4c34b92cc",
   "metadata": {
    "jupyter": {
     "source_hidden": true
    },
    "tags": []
   },
   "outputs": [
    {
     "name": "stderr",
     "output_type": "stream",
     "text": [
      "\u001b[32m\u001b[1m  Activating\u001b[22m\u001b[39m environment at `C:\\Users\\ArmanAngaji\\OneDrive - Universität zu Köln\\Dokumente\\Uni-Köln\\Masterarbeit\\Workspace\\Julia_Master\\MasterProject_Julia\\Project.toml`"
     ]
    },
    {
     "name": "stdout",
     "output_type": "stream",
     "text": [
      "\u001b[37m\u001b[1mTest Summary:             | \u001b[22m\u001b[39m\u001b[32m\u001b[1mPass  \u001b[22m\u001b[39m\u001b[36m\u001b[1mTotal\u001b[22m\u001b[39m\n",
      "Applying turnover methods"
     ]
    },
    {
     "name": "stderr",
     "output_type": "stream",
     "text": [
      "\n"
     ]
    },
    {
     "name": "stdout",
     "output_type": "stream",
     "text": [
      " | \u001b[32m   7  \u001b[39m\u001b[36m    7\u001b[39m\n"
     ]
    },
    {
     "data": {
      "image/png": "[encoded data removed]"
     },
     "execution_count": 1,
     "metadata": {},
     "output_type": "execute_result"
    }
   ],
   "source": [
    "projectdir = \"C:/Users/ArmanAngaji/OneDrive - Universität zu Köln/Dokumente/Uni-Köln/Masterarbeit/Workspace/Julia_Master/MasterProject_Julia/\"\n",
    "cd(projectdir)\n",
    "using Pkg; Pkg.activate(pwd())\n",
    "\n",
    "using DataFrames, StatsBase, Plots, Statistics, LaTeXStrings, LsqFit, CSV, Pipe, ProgressMeter, StatsPlots, BSON\n",
    "using Distributions, NLsolve, Roots\n",
    "pyplot()\n",
    "\n",
    "try\n",
    "    Turnover\n",
    "catch e\n",
    "    include(projectdir*\"Turnover/src/Turnover.jl\")\n",
    "    include(projectdir*\"Turnover/src/test.jl\")\n",
    "    using .Turnover\n",
    "end\n",
    "try\n",
    "    SeqDataFormatting\n",
    "catch e\n",
    "    include(\"experimental_data/SeqDataFormatting.jl\")\n",
    "    import .SeqDataFormatting\n",
    "end\n",
    "\n",
    "import TumorGrowth\n",
    "include(\"distribution_functions.jl\")\n",
    "plot(size=(1,1))"
   ]
  },
  {
   "cell_type": "markdown",
   "id": "c592e1ee-3edb-4297-a381-a2efbbef7bfc",
   "metadata": {},
   "source": [
    "# Data\n",
    "> Load data and set turnover settings"
   ]
  },
  {
   "cell_type": "code",
   "execution_count": 52,
   "id": "02491742-ad65-4afd-b2f1-7f34788589ea",
   "metadata": {
    "tags": []
   },
   "outputs": [
    {
     "data": {
      "text/plain": [
       "249"
      ]
     },
     "execution_count": 52,
     "metadata": {},
     "output_type": "execute_result"
    }
   ],
   "source": [
    "sampleinfo = TumorGrowth.data_import(\"experimental_data/wes_sampleinfo.csv\", delim=\",\")\n",
    "normal = \"N1\"\n",
    "tumorsamples = sampleinfo.samplename\n",
    "samples = [tumorsamples..., normal]\n",
    "\n",
    "mutations_string = (DataFrame ∘ CSV.File)(\"experimental_data/MichelProcessed/Ling2015_jointcall_pwrecovered.csv\")\n",
    "\n",
    "seqdata = SeqDataFormatting.string_to_seqresult(mutations_string, samples);\n",
    "\n",
    "wes = SeqDataFormatting.seqdata_to_tumor(seqdata, sampleinfo; normal = \"N1\", \n",
    "    maxReadsNormal = 0, \n",
    "    minReads = 5,\n",
    "    minTotCoverage = 150,\n",
    "    cnaAgreement = 0,\n",
    "    allow_xy = true,\n",
    "    cutoff_hi = 0.5,\n",
    "    cutoff_low = 1/40,\n",
    "    )\n",
    "wes.frequencies = copy(wes.ccf);\n",
    "vcat(wes.mutations...) |> unique |> length"
   ]
  },
  {
   "cell_type": "code",
   "execution_count": 59,
   "id": "0918b82f-036d-40cb-8879-9276a6d1870b",
   "metadata": {
    "tags": []
   },
   "outputs": [],
   "source": [
    "turnover_params = ( Nthresh_orph = 40, Nthresh_estr = 40, )\n",
    "\n",
    "tumor = deepcopy(wes)\n",
    "SeqDataFormatting.subsample!(tumor; nmuts = 50)\n",
    "for s in eachrow(tumor)\n",
    "    mask = s.frequencies .> 1/2\n",
    "    s.mutations = s.mutations[mask]\n",
    "    s.frequencies = s.frequencies[mask]\n",
    "end\n",
    "\n",
    "freqs = SeqDataFormatting.mfreqs(tumor) |> df -> Dict(df.mutation .=> df.frequency)\n",
    ";"
   ]
  },
  {
   "cell_type": "code",
   "execution_count": 60,
   "id": "cdc7cf0b-d025-4db2-bd0a-ac4f4e1e0c83",
   "metadata": {
    "tags": []
   },
   "outputs": [
    {
     "data": {
      "image/png": "[encoded data removed]"
     },
     "execution_count": 60,
     "metadata": {},
     "output_type": "execute_result"
    }
   ],
   "source": [
    "p = plot(size=(300,220), legend=:none, grid=false,\n",
    "    ytickfontsize=12, margin=2Plots.mm, tickfontsize=12, labelfontsize=13)\n",
    "\n",
    "res = 1/100\n",
    "M!(p, filter( f-> 1 > f > res, collect(values(freqs))), nbins=50, lab=\"\", xlab=L\"1/f\", ylab=L\"M(f)\",\n",
    "    lw=2.5, xlim=(0, :auto), ylim=(0,:auto), color=cgrad(:blues)[0.5])\n",
    "# savefig(\"experimental_data\\\\LingProcessed\\\\plots\\\\Ling_wes_sfs.pdf\")"
   ]
  },
  {
   "cell_type": "markdown",
   "id": "2f89c1f6-1811-4902-b992-8f9d060d4601",
   "metadata": {},
   "source": [
    "# single call"
   ]
  },
  {
   "cell_type": "code",
   "execution_count": 55,
   "id": "3d292105-e622-4d46-9fd2-138ae15d5825",
   "metadata": {
    "tags": []
   },
   "outputs": [
    {
     "data": {
      "text/plain": [
       "0.09240738373776959"
      ]
     },
     "execution_count": 55,
     "metadata": {},
     "output_type": "execute_result"
    }
   ],
   "source": [
    "orphaned_tumor = DataFrame( mutations = unique( \n",
    "        filter.(m-> freqs[m] > 1/turnover_params[:Nthresh_orph], tumor.mutations) \n",
    "        ) )\n",
    "\n",
    "# get d\n",
    "W_l = orphaned_red_treeless(orphaned_tumor) |> \n",
    "    df -> sum( df.isorphaned ) / sum( df.isgreen )\n",
    "\n",
    "d_solve = fzero(x -> min(1., Turnover.W_orphaned( x; N= turnover_params[:Nthresh_orph] * (1-x))) - W_l, 0.01, 0.99) "
   ]
  },
  {
   "cell_type": "code",
   "execution_count": 56,
   "id": "27d3faa2-400b-4736-a1ec-dfb97a8ef473",
   "metadata": {
    "tags": []
   },
   "outputs": [
    {
     "data": {
      "image/png": "[encoded data removed]"
     },
     "execution_count": 56,
     "metadata": {},
     "output_type": "execute_result"
    }
   ],
   "source": [
    "plot(0:0.01:1., x -> Turnover.W_orphaned( x; N= turnover_params[:Nthresh_orph]*(1-x) ),\n",
    "    xlim=(0,1), ylim=(0,0.5), size=(200,150), lab=:none)\n",
    "scatter!([d_solve], [W_l], lab=:none, xlab=:d, ylab=L\"W_a\")"
   ]
  },
  {
   "cell_type": "code",
   "execution_count": 57,
   "id": "d134dbff-f5ed-44a6-85b7-88f9ce2e6660",
   "metadata": {
    "tags": []
   },
   "outputs": [
    {
     "data": {
      "text/plain": [
       "0.99"
      ]
     },
     "execution_count": 57,
     "metadata": {},
     "output_type": "execute_result"
    }
   ],
   "source": [
    "estranged_tumor = DataFrame(mutations = \n",
    "    filter( muts -> all(  freqs[m] > 1/turnover_params[:Nthresh_estr] for m in muts), tumor.mutations) )\n",
    "\n",
    "# get mu\n",
    "W_c = estranged_treeless(estranged_tumor) |> \n",
    "        df -> sum( df.isestranged ) / sum( df.isgreen )\n",
    "\n",
    "mu_solve = fzero(mu -> min(1., W_estranged(d_solve; b=1., μ=mu, \n",
    "            T=log(turnover_params[:Nthresh_estr] * (1-d_solve)) / (1-d_solve)))- W_c, 0.01, 0.99)"
   ]
  },
  {
   "cell_type": "code",
   "execution_count": 29,
   "id": "d7678591-a758-40d6-9b85-9f7e27ea91a0",
   "metadata": {
    "tags": []
   },
   "outputs": [
    {
     "data": {
      "image/png": "[encoded data removed]"
     },
     "execution_count": 29,
     "metadata": {},
     "output_type": "execute_result"
    }
   ],
   "source": [
    "plot(0:0.001:1., mu -> min(1., W_estranged(d_solve; b=1., μ=mu, T=log(turnover_params[:Nthresh_estr]*(1-d_solve))/(1-d_solve))),\n",
    "    xlim=(0,1), ylim=(0,1.0), size=(200,150), lab=:none)\n",
    "scatter!([mu_solve], [W_c], lab=:none, xlab=:mu, ylab=L\"W_c\")"
   ]
  },
  {
   "cell_type": "code",
   "execution_count": 58,
   "id": "bf553760-d7ac-4477-9380-822afcc93761",
   "metadata": {
    "jupyter": {
     "source_hidden": true
    },
    "tags": []
   },
   "outputs": [
    {
     "data": {
      "image/png": "[encoded data removed]"
     },
     "execution_count": 58,
     "metadata": {},
     "output_type": "execute_result"
    }
   ],
   "source": [
    "wes_freqs = SeqDataFormatting.mfreqs(wes).frequency\n",
    "\n",
    "p = plot(layout=(1,1), size=(300,250), grid=false, xlab=L\"1/f\", ylab=L\"M(f)\", xlim=(0, :auto),\n",
    "    labelfontsize=13, tickfontsize=12, margin=5Plots.mm, legend=:bottomright)\n",
    "M!(p[1], wes_freqs, nbins=50, lab=\"wes\", lw=2., ylim=(0,36))\n",
    "plot!(p[1], 1:80, x-> x*mu_solve/(1-d_solve), lw=2., lab=\"\")"
   ]
  },
  {
   "cell_type": "markdown",
   "id": "120f4b89-3e54-49a6-9d39-63a0b66b7d77",
   "metadata": {},
   "source": [
    "# sampling"
   ]
  },
  {
   "cell_type": "code",
   "execution_count": 11,
   "id": "153c97e3-c471-4535-8b13-773a22b26d52",
   "metadata": {},
   "outputs": [
    {
     "name": "stdout",
     "output_type": "stream",
     "text": [
      "0.7940798394372962\n"
     ]
    },
    {
     "data": {
      "image/png": "[encoded data removed]"
     },
     "execution_count": 11,
     "metadata": {},
     "output_type": "execute_result"
    }
   ],
   "source": [
    "ds = map( 20:1:40) do M\n",
    "\n",
    "    orphaned_tumor = DataFrame( mutations = unique( filter.(m-> freqs[m] > 1/M, tumor.mutations) ) )\n",
    "    \n",
    "    # get d\n",
    "    W_l = orphaned_red_treeless(orphaned_tumor) |> \n",
    "        df -> sum( df.isorphaned ) / sum( df.isgreen )\n",
    "    d_solve = try\n",
    "        fzero(x -> min(1., Turnover.W_orphaned( x; N= M * (1-x) )) - W_l, 0.01, 0.99)\n",
    "    catch e\n",
    "        e isa ArgumentError && 1.\n",
    "    end\n",
    "end\n",
    "println(median(ds))\n",
    "histogram(ds, bins=0.:0.1:1., size=(200,150), lab=\"\")\n",
    "vline!([median(ds)], lab=\"\", lw=3., grid=false, xlab=:d)"
   ]
  },
  {
   "cell_type": "code",
   "execution_count": 12,
   "id": "2f07f09e-fdd0-4d0f-be06-630b61c2b993",
   "metadata": {
    "jupyter": {
     "source_hidden": true
    }
   },
   "outputs": [
    {
     "name": "stdout",
     "output_type": "stream",
     "text": [
      "0.7482915548905031\n"
     ]
    },
    {
     "data": {
      "image/png": "[encoded data removed]"
     },
     "execution_count": 12,
     "metadata": {},
     "output_type": "execute_result"
    }
   ],
   "source": [
    "ds = map( 0.5:0.1:1. ) do L\n",
    "    map( 1:100 ) do _\n",
    "        orphaned_tumor = DataFrame( mutations = unique( filter.(m-> freqs[m] > 1/turnover_params[:Nthresh_orph], tumor.mutations) ) )\n",
    "        orphaned_tumor = TumorGrowth.reduced_μ(orphaned_tumor, L)\n",
    "        \n",
    "        # get d\n",
    "        W_l = orphaned_red_treeless(orphaned_tumor) |> \n",
    "            df -> sum( df.isorphaned ) / sum( df.isgreen )\n",
    "\n",
    "        d_solve = try\n",
    "            fzero(x -> min(1., Turnover.W_orphaned( x; N= turnover_params[:Nthresh_orph] * (1-x))) - W_l, 0.01, 0.99)\n",
    "        catch e\n",
    "            e isa ArgumentError && NaN\n",
    "        end\n",
    "    end\n",
    "end\n",
    "filter!.(!isnan, ds)\n",
    "println(median(vcat(ds...)))\n",
    "histogram(vcat(ds...), bins=0.:0.1:1., size=(200,150), lab=\"\")\n",
    "vline!([median(vcat(ds...))], lab=\"\", lw=3., grid=false, xlab=:d)"
   ]
  },
  {
   "cell_type": "code",
   "execution_count": 13,
   "id": "28091001",
   "metadata": {
    "tags": []
   },
   "outputs": [
    {
     "data": {
      "text/plain": [
       "0.75"
      ]
     },
     "execution_count": 13,
     "metadata": {},
     "output_type": "execute_result"
    }
   ],
   "source": [
    "d_solve=0.75"
   ]
  },
  {
   "cell_type": "code",
   "execution_count": 14,
   "id": "3f3e90ae-2e65-49ad-87d2-8bc201195f6f",
   "metadata": {
    "tags": []
   },
   "outputs": [
    {
     "data": {
      "text/plain": [
       "0.07928885578527746"
      ]
     },
     "execution_count": 14,
     "metadata": {},
     "output_type": "execute_result"
    }
   ],
   "source": [
    "estranged_tumor = DataFrame(mutations = filter( muts -> all(  freqs[m] > 1/turnover_params[:Nthresh_estr] for m in muts), tumor.mutations) )\n",
    "\n",
    "# get mu\n",
    "W_c = estranged_treeless(estranged_tumor) |> \n",
    "        df -> sum( df.isestranged ) / sum( df.isgreen )\n",
    "\n",
    "mu_solve = fzero(mu -> min(1., W_estranged(d_solve; b=1., μ=mu,\n",
    "            T=log(turnover_params[:Nthresh_estr] * (1-d_solve) )/(1-d_solve)))- W_c, 0.01, 0.99)"
   ]
  },
  {
   "cell_type": "code",
   "execution_count": 15,
   "id": "7ffa28af-a64b-4aed-abac-3c8b0c1e848e",
   "metadata": {
    "jupyter": {
     "source_hidden": true
    },
    "tags": []
   },
   "outputs": [
    {
     "name": "stdout",
     "output_type": "stream",
     "text": [
      "mean fit : 0.07916210519873246\n",
      "averaged fits : 0.07535693959579605 ± 0.0029522494368844246\n"
     ]
    },
    {
     "data": {
      "image/png": "[encoded data removed]"
     },
     "execution_count": 15,
     "metadata": {},
     "output_type": "execute_result"
    }
   ],
   "source": [
    "let d = d_solve\n",
    "    Ls = 0.5:0.1:1.\n",
    "    reps = 50\n",
    "    estranged_tumors = map( Ls ) do L\n",
    "        [TumorGrowth.reduced_μ(estranged_tumor, L) for _=1:reps]\n",
    "    end\n",
    "\n",
    "    estranged_turnover = map(estranged_tumors) do set\n",
    "            filter!(!isnan, map(set) do tumor\n",
    "                res = estranged_treeless(tumor)\n",
    "                sum( res.isestranged ) / sum( res.isgreen )\n",
    "                end ) \n",
    "        end\n",
    "\n",
    "    Ls, t = .!isempty.(estranged_turnover) |> mask -> (Ls[mask], estranged_turnover[mask])\n",
    "    \n",
    "    global Nthresh\n",
    "    function model(Ls, p)\n",
    "        local mu = p[1]\n",
    "        (mu<=0. || mu>=1.) && return fill(Inf, length(Ls))\n",
    "        map( Ls ) do L\n",
    "            min(1., W_estranged(d; b=1., μ=mu*L, T=log(turnover_params[:Nthresh_estr] * (1-d))/(1-d)))\n",
    "        end\n",
    "    end\n",
    "    fit = curve_fit(model, Ls, mean.(t), [(1-d)/2])\n",
    "    mu_fit = fit.param[1]\n",
    "\n",
    "    p1 = scatter( Ls, mean.(t), ribbon=std.(t), yerror = std.(t)./sqrt.(length.(t)), lab=\"\", xlab=:L, ylab=:turnover, legend=:topright, ylim=(0,1))\n",
    "    plot!(Ls, model(Ls, fit.param), lab=\"fit : μ$(round(mu_fit,digits=3))\" )\n",
    "\n",
    "    tvecs = [ rand.(t) for _=1:1000 ]\n",
    "    fits = map( tp-> curve_fit(model, Ls, tp, [(1-d_solve)/2]), tvecs)\n",
    "    mu_fits = getindex.(getfield.(fits, :param),1)\n",
    "    p2 = histogram( mu_fits, lab=\"\", alpha=0.3, xlim=(0,:auto), nbins=30, size=(400,250), ylim=(0,:auto))\n",
    "    vline!([mu_fit], lab=\"\", lw=2., c=:blue, tickfontsize=12, labelfontsize=18, xlab=L\"\\mu\", grid=false )\n",
    "    vline!([mu_solve], lab=\"\", lw=2., c=:red)\n",
    "\n",
    "    println(\"mean fit : \", mu_fit)\n",
    "    println(\"averaged fits : \", mean(mu_fits), \" ± \", 1.96*std(mu_fits)/sqrt(length(mu_fits)))\n",
    "    plot(p1,p2, size=(600,200))\n",
    "\n",
    "#     savefig(\"Turnover/turnover_plots/experimental_data/sanger_wesfreqs_mu.pdf\")\n",
    "end"
   ]
  },
  {
   "cell_type": "code",
   "execution_count": 50,
   "id": "ced2f87c-cf66-43bc-b118-94be17913b22",
   "metadata": {
    "jupyter": {
     "source_hidden": true
    },
    "tags": []
   },
   "outputs": [
    {
     "name": "stdout",
     "output_type": "stream",
     "text": [
      "0.7482915548905031\n",
      "0.08125790704616287\n"
     ]
    }
   ],
   "source": [
    "ds = map( 0.5:0.1:1. ) do L\n",
    "    map( 1:100 ) do _\n",
    "        orphaned_tumor = DataFrame( mutations = unique( filter.(m-> freqs[m] > 1/turnover_params[:Nthresh_orph], tumor.mutations) ) )\n",
    "        orphaned_tumor = TumorGrowth.reduced_μ(orphaned_tumor, L)\n",
    "\n",
    "        # get d\n",
    "        W_l = orphaned_red_treeless(orphaned_tumor) |> \n",
    "            df -> sum( df.isorphaned ) / sum( df.isgreen )\n",
    "\n",
    "        d_solve = try\n",
    "            fzero(x -> min(1., Turnover.W_orphaned( x; N= turnover_params[:Nthresh_orph]*(1-x))) - W_l, 0.01, 0.99)\n",
    "        catch e\n",
    "            e isa ArgumentError && NaN\n",
    "        end\n",
    "    end\n",
    "end\n",
    "filter!.(!isnan, ds)\n",
    "ds = vcat(ds...)\n",
    "d_solve = median(ds)\n",
    "\n",
    "estranged_tumor = DataFrame(mutations = \n",
    "    filter( muts -> all(  freqs[m] > 1/turnover_params[:Nthresh_estr] for m in muts), tumor.mutations) )\n",
    "# get mu\n",
    "W_c = estranged_treeless(estranged_tumor) |> df -> sum( df.isestranged ) / sum( df.isgreen ) #|> mes2theory_estranged\n",
    "\n",
    "# mu_solve, n = bisection(mu -> min(1., W_estranged(d_solve; b=1, μ=mu,\n",
    "# T=log(turnover_params[:Nthresh_estr])/(1-d_solve)))- W_c, [0.01,0.99], 100)\n",
    "mu_solve = fzero(mu -> min(1., W_estranged(d_solve; b=1., μ=mu,\n",
    "            T=log(turnover_params[:Nthresh_estr] * (1-d_solve) )/(1-d_solve)))- W_c, 0.01, 0.99)\n",
    "\n",
    "Ls = 0.4:0.1:1.\n",
    "reps = 50\n",
    "estranged_tumors = map( Ls ) do L\n",
    "    [TumorGrowth.reduced_μ(estranged_tumor, L) for _=1:reps]\n",
    "end\n",
    "\n",
    "estranged_turnover = map(estranged_tumors) do set\n",
    "        filter!(!isnan, set .|> estranged_treeless .|> df -> sum( df.isestranged ) / sum( df.isgreen ))\n",
    "    end\n",
    "\n",
    "Ls, t = .!isempty.(estranged_turnover) |> mask -> (Ls[mask], estranged_turnover[mask])\n",
    "\n",
    "function model(Ls, p)\n",
    "    local mu = p[1]\n",
    "    (mu<=0. || mu>=1.) && return fill(Inf, length(Ls))\n",
    "    map( Ls ) do L\n",
    "        min(1., W_estranged(d_solve; b=1., μ=mu*L, T=log(turnover_params[:Nthresh_estr] * (1-d_solve))/(1-d_solve)))\n",
    "    end\n",
    "end\n",
    "# fitres = curve_fit(model, Ls, mean.(t), [(1-d_solve)/2])\n",
    "fitres = curve_fit(model, vcat( [ fill(Ls[i], length(t_)) for (i,t_) in enumerate(t)]... ), \n",
    "    vcat(t...), [(1-d_solve)/2])\n",
    "mu_fit = fitres.param[1]\n",
    "\n",
    "tvecs = [ rand.(t) for _=1:1000 ]\n",
    "fits = map( tp-> curve_fit(model, Ls, tp, [(1-d_solve)/2]), tvecs)\n",
    "mu_fits = getindex.(getfield.(fits, :param),1)\n",
    "\n",
    "\n",
    "p = plot(layout=(1,1), size=(300,220), legend=:none, grid=false, ytickfontsize=12, margin=2Plots.mm)\n",
    "\n",
    "plot!(p[1], legend=:none, xlim=(0.2,2.8), xtickfontsize=18, ylim=(0,1), xticks=([1,2],[L\"d\",L\"\\mu\"]))#, xaxis=:off)\n",
    "hline!(p[1], [1], c=:black, lw=1.5)\n",
    "vline!(p[1], [2.8], c=:black, lw=1.5)\n",
    "violin!(p[1], [1], ds, c=:blue, fillalpha=0.5)\n",
    "scatter!(p[1], [1], ds, c=:blue, alpha=0.5)\n",
    "hline!(p[1], [d_solve], c=:blue, lw=2., style=:dash)\n",
    "println(d_solve)\n",
    "\n",
    "violin!(p[1], [2], mu_fits, c=:red, fillalpha=0.5)\n",
    "scatter!(p[1], [2], mu_fits, c=:red, alpha=0.5)\n",
    "hline!(p[1], [median(mu_fits)], c=:red, lw=2., style=:dash)\n",
    "println(median(mu_fits))\n",
    "# hline!(p[1], [mu_solve], c=:orange, lw=2., style=:dash)\n",
    "\n",
    "# res = 1/400\n",
    "# plot!(p[2], tickfontsize=12, labelfontsize=13)\n",
    "# M!(p[2], filter( f-> 1 > f > res, collect(values(freqs))), nbins=50, lab=\"\", xlab=L\"1/f\", ylab=L\"M(f)\",\n",
    "#     lw=2., xlim=(0, :auto), ylim=(0,40))\n",
    "# plot!(p[2], 1:80, x-> x*median(mu_fits)/(1-d_solve), lw=2., lab=\"\")"
   ]
  },
  {
   "cell_type": "code",
   "execution_count": 51,
   "id": "d1e72593-6b64-4d95-854c-bb5ee15f747f",
   "metadata": {},
   "outputs": [
    {
     "data": {
      "image/png": "[encoded data removed]"
     },
     "execution_count": 51,
     "metadata": {},
     "output_type": "execute_result"
    }
   ],
   "source": [
    "p"
   ]
  },
  {
   "cell_type": "code",
   "execution_count": 53,
   "id": "4822cc93-d3fd-4f96-b13d-0dffcce170a0",
   "metadata": {},
   "outputs": [],
   "source": [
    "# savefig(\"Turnover\\\\turnover_LingLichee_inference.pdf\")"
   ]
  },
  {
   "cell_type": "code",
   "execution_count": 176,
   "id": "76eb26b9-cc80-47b1-91f4-60d2a777adfe",
   "metadata": {
    "jupyter": {
     "source_hidden": true
    },
    "tags": []
   },
   "outputs": [
    {
     "name": "stdout",
     "output_type": "stream",
     "text": [
      "0.5313483952898252\n",
      "0.293017690522415\n"
     ]
    },
    {
     "data": {
      "image/png": "[encoded data removed]"
     },
     "execution_count": 176,
     "metadata": {},
     "output_type": "execute_result"
    }
   ],
   "source": [
    "ds = map( 0.5:0.1:1. ) do L\n",
    "    map( 1:100 ) do _\n",
    "        orphaned_tumor = DataFrame( mutations = unique( filter.(m-> freqs[m] > 1/turnover_params[:Nthresh_orph], tumor.mutations) ) )\n",
    "        orphaned_tumor = TumorGrowth.reduced_μ(orphaned_tumor, L)\n",
    "\n",
    "        # get d\n",
    "        W_l = orphaned_red_treeless(orphaned_tumor) |> \n",
    "            df -> sum( df.isorphaned ) / sum( df.isgreen )\n",
    "\n",
    "        d_solve = try\n",
    "            fzero(x -> min(1., Turnover.W_orphaned( x; N= turnover_params[:Nthresh_orph]*(1-x))) - W_l, 0.01, 0.99)\n",
    "        catch e\n",
    "            e isa ArgumentError && NaN\n",
    "        end\n",
    "    end\n",
    "end\n",
    "filter!.(!isnan, ds)\n",
    "ds = vcat(ds...)\n",
    "d_solve = median(ds)\n",
    "\n",
    "estranged_tumor = DataFrame(mutations = \n",
    "    filter( muts -> all(  freqs[m] > 1/turnover_params[:Nthresh_estr] for m in muts), tumor.mutations) )\n",
    "# get mu\n",
    "W_c = estranged_treeless(estranged_tumor) |> df -> sum( df.isestranged ) / sum( df.isgreen ) #|> mes2theory_estranged\n",
    "\n",
    "# mu_solve, n = bisection(mu -> min(1., W_estranged(d_solve; b=1, μ=mu,\n",
    "# T=log(turnover_params[:Nthresh_estr])/(1-d_solve)))- W_c, [0.01,0.99], 100)\n",
    "mu_solve = fzero(mu -> min(1., W_estranged(d_solve; b=1., μ=mu,\n",
    "            T=log(turnover_params[:Nthresh_estr] * (1-d_solve) )/(1-d_solve)))- W_c, 0.01, 0.99)\n",
    "\n",
    "Ls = 0.4:0.1:1.\n",
    "reps = 50\n",
    "estranged_tumors = map( Ls ) do L\n",
    "    [TumorGrowth.reduced_μ(estranged_tumor, L) for _=1:reps]\n",
    "end\n",
    "\n",
    "estranged_turnover = map(estranged_tumors) do set\n",
    "        filter!(!isnan, set .|> estranged_treeless .|> df -> sum( df.isestranged ) / sum( df.isgreen ))\n",
    "    end\n",
    "\n",
    "Ls, t = .!isempty.(estranged_turnover) |> mask -> (Ls[mask], estranged_turnover[mask])\n",
    "\n",
    "function model(Ls, p)\n",
    "    local mu = p[1]\n",
    "    (mu<=0. || mu>=1.) && return fill(Inf, length(Ls))\n",
    "    map( Ls ) do L\n",
    "        min(1., W_estranged(d_solve; b=1., μ=mu*L, T=log(turnover_params[:Nthresh_estr] * (1-d_solve))/(1-d_solve)))\n",
    "    end\n",
    "end\n",
    "# fitres = curve_fit(model, Ls, mean.(t), [(1-d_solve)/2])\n",
    "fitres = curve_fit(model, vcat( [ fill(Ls[i], length(t_)) for (i,t_) in enumerate(t)]... ), \n",
    "    vcat(t...), [(1-d_solve)/2])\n",
    "mu_fit = fitres.param[1]\n",
    "\n",
    "tvecs = [ rand.(t) for _=1:1000 ]\n",
    "fits = map( tp-> curve_fit(model, Ls, tp, [(1-d_solve)/2]), tvecs)\n",
    "mu_fits = getindex.(getfield.(fits, :param),1)\n",
    "\n",
    "\n",
    "p = plot(layout=(1,2), size=(600,220), legend=:none, grid=false, ytickfontsize=12, margin=2Plots.mm)\n",
    "\n",
    "plot!(p[1], legend=:none, xlim=(0.2,2.8), xtickfontsize=18, ylim=(0,1), xticks=([1,2],[L\"d\",L\"\\mu\"]))#, xaxis=:off)\n",
    "hline!(p[1], [1], c=:black)\n",
    "violin!(p[1], [1], ds, c=:blue, fillalpha=0.5)\n",
    "scatter!(p[1], [1], ds, c=:blue, alpha=0.5)\n",
    "hline!(p[1], [d_solve], c=:blue, lw=2., style=:dash)\n",
    "println(d_solve)\n",
    "\n",
    "violin!(p[1], [2], mu_fits, c=:red, fillalpha=0.5)\n",
    "scatter!(p[1], [2], mu_fits, c=:red, alpha=0.5)\n",
    "hline!(p[1], [median(mu_fits)], c=:red, lw=2., style=:dash)\n",
    "println(median(mu_fits))\n",
    "hline!(p[1], [mu_solve], c=:orange, lw=2., style=:dash)\n",
    "\n",
    "res = 1/400\n",
    "plot!(p[2], tickfontsize=12, labelfontsize=13)\n",
    "M!(p[2], filter( f-> 1 > f > res, collect(values(freqs))), nbins=50, lab=\"\", xlab=L\"1/f\", ylab=L\"M(f)\",\n",
    "    lw=2., xlim=(0, :auto), ylim=(0,40))\n",
    "plot!(p[2], 1:80, x-> x*median(mu_fits)/(1-d_solve), lw=2., lab=\"\")"
   ]
  },
  {
   "cell_type": "code",
   "execution_count": 139,
   "id": "905cd708-8bac-42a1-8ed1-54cee9ac4f56",
   "metadata": {
    "tags": []
   },
   "outputs": [],
   "source": [
    "# savefig(\"Turnover\\\\turnover_LingLichee.pdf\")"
   ]
  }
 ],
 "metadata": {
  "kernelspec": {
   "display_name": "Julia 1.6.0",
   "language": "julia",
   "name": "julia-1.6"
  },
  "language_info": {
   "file_extension": ".jl",
   "mimetype": "application/julia",
   "name": "julia",
   "version": "1.6.0"
  }
 },
 "nbformat": 4,
 "nbformat_minor": 5
}
