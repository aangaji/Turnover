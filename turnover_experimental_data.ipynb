{
 "cells": [
  {
   "cell_type": "code",
   "execution_count": 1,
   "metadata": {},
   "outputs": [
    {
     "data": {
      "text/html": [
       "<script>\n",
       "// Immediately-invoked-function-expression to avoid global variables.\n",
       "(function() {\n",
       "    var warning_div = document.getElementById(\"webio-warning-698645705626498575\");\n",
       "    var hide = function () {\n",
       "        var script = document.getElementById(\"webio-setup-11580009314202006902\");\n",
       "        var parent = script && script.parentElement;\n",
       "        var grandparent = parent && parent.parentElement;\n",
       "        if (grandparent) {\n",
       "            grandparent.style.display = \"none\";\n",
       "        }\n",
       "        warning_div.style.display = \"none\";\n",
       "    };\n",
       "    if (typeof Jupyter !== \"undefined\") {\n",
       "        console.log(\"WebIO detected Jupyter notebook environment.\");\n",
       "        // Jupyter notebook.\n",
       "        var extensions = (\n",
       "            Jupyter\n",
       "            && Jupyter.notebook.config.data\n",
       "            && Jupyter.notebook.config.data.load_extensions\n",
       "        );\n",
       "        if (extensions && extensions[\"webio-jupyter-notebook\"]) {\n",
       "            // Extension already loaded.\n",
       "            console.log(\"Jupyter WebIO nbextension detected; not loading ad-hoc.\");\n",
       "            hide();\n",
       "            return;\n",
       "        }\n",
       "    } else if (window.location.pathname.includes(\"/lab\")) {\n",
       "        // Guessing JupyterLa\n",
       "        console.log(\"Jupyter Lab detected; make sure the @webio/jupyter-lab-provider labextension is installed.\");\n",
       "        hide();\n",
       "        return;\n",
       "    }\n",
       "})();\n",
       "\n",
       "</script>\n",
       "<p\n",
       "    id=\"webio-warning-698645705626498575\"\n",
       "    class=\"output_text output_stderr\"\n",
       "    style=\"padding: 1em; font-weight: bold;\"\n",
       ">\n",
       "    Unable to load WebIO. Please make sure WebIO works for your Jupyter client.\n",
       "    For troubleshooting, please see <a href=\"https://juliagizmos.github.io/WebIO.jl/latest/providers/ijulia/\">\n",
       "    the WebIO/IJulia documentation</a>.\n",
       "    <!-- TODO: link to installation docs. -->\n",
       "</p>\n"
      ],
      "text/plain": [
       "HTML{String}(\"<script>\\n// Immediately-invoked-function-expression to avoid global variables.\\n(function() {\\n    var warning_div = document.getElementById(\\\"webio-warning-698645705626498575\\\");\\n    var hide = function () {\\n        var script = document.getElementById(\\\"webio-setup-11580009314202006902\\\");\\n        var parent = script && script.parentElement;\\n        var grandparent = parent && parent.parentElement;\\n        if (grandparent) {\\n            grandparent.style.display = \\\"none\\\";\\n        }\\n        warning_div.style.display = \\\"none\\\";\\n    };\\n    if (typeof Jupyter !== \\\"undefined\\\") {\\n        console.log(\\\"WebIO detected Jupyter notebook environment.\\\");\\n        // Jupyter notebook.\\n        var extensions = (\\n            Jupyter\\n            && Jupyter.notebook.config.data\\n            && Jupyter.notebook.config.data.load_extensions\\n        );\\n        if (extensions && extensions[\\\"webio-jupyter-notebook\\\"]) {\\n            // Extension already loaded.\\n            console.log(\\\"Jupyter WebIO nbextension detected; not loading ad-hoc.\\\");\\n            hide();\\n            return;\\n        }\\n    } else if (window.location.pathname.includes(\\\"/lab\\\")) {\\n        // Guessing JupyterLa\\n        console.log(\\\"Jupyter Lab detected; make sure the @webio/jupyter-lab-provider labextension is installed.\\\");\\n        hide();\\n        return;\\n    }\\n})();\\n\\n</script>\\n<p\\n    id=\\\"webio-warning-698645705626498575\\\"\\n    class=\\\"output_text output_stderr\\\"\\n    style=\\\"padding: 1em; font-weight: bold;\\\"\\n>\\n    Unable to load WebIO. Please make sure WebIO works for your Jupyter client.\\n    For troubleshooting, please see <a href=\\\"https://juliagizmos.github.io/WebIO.jl/latest/providers/ijulia/\\\">\\n    the WebIO/IJulia documentation</a>.\\n    <!-- TODO: link to installation docs. -->\\n</p>\\n\")"
      ]
     },
     "metadata": {},
     "output_type": "display_data"
    },
    {
     "name": "stderr",
     "output_type": "stream",
     "text": [
      "\u001b[32m\u001b[1m  Activating\u001b[22m\u001b[39m environment at `C:\\Users\\Arman Angaji\\OneDrive - Universität zu Köln\\Dokumente\\Uni-Köln\\Masterarbeit\\Workspace\\Julia_Master\\MasterProject_Julia\\Project.toml`\n"
     ]
    },
    {
     "name": "stdout",
     "output_type": "stream",
     "text": [
      "\u001b[37m\u001b[1mTest Summary:             | \u001b[22m\u001b[39m\u001b[32m\u001b[1mPass  \u001b[22m\u001b[39m\u001b[36m\u001b[1mTotal\u001b[22m\u001b[39m\n",
      "Applying turnover methods | \u001b[32m   7  \u001b[39m\u001b[36m    7\u001b[39m\n"
     ]
    }
   ],
   "source": [
    "projectdir = \"C:/Users/Arman Angaji/OneDrive - Universität zu Köln/Dokumente/Uni-Köln/Masterarbeit/Workspace/Julia_Master/MasterProject_Julia\"\n",
    "cd(projectdir)\n",
    "using Pkg; Pkg.activate(pwd())\n",
    "\n",
    "using DataFrames, StatsBase, Plots, Statistics, LaTeXStrings, Interact, LsqFit, CSV, Blink, Pipe, ProgressMeter\n",
    "pyplot()\n",
    "\n",
    "include(\"Turnover/Turnover.jl\")\n",
    "include(\"Turnover/test.jl\")\n",
    "using .Turnover\n",
    "\n",
    "import TumorGrowth\n",
    "include(\"distribution_functions.jl\")"
   ]
  },
  {
   "cell_type": "code",
   "execution_count": 2,
   "metadata": {},
   "outputs": [],
   "source": [
    "include(\"experimental_data/SeqDataFormatting.jl\")\n",
    "using .SeqDataFormatting"
   ]
  },
  {
   "cell_type": "markdown",
   "metadata": {},
   "source": [
    "  "
   ]
  },
  {
   "cell_type": "markdown",
   "metadata": {},
   "source": [
    "  "
   ]
  },
  {
   "cell_type": "code",
   "execution_count": 3,
   "metadata": {},
   "outputs": [],
   "source": [
    "sampleinfo = TumorGrowth.data_import(\"experimental_data/wes_sampleinfo.csv\", delim=\",\")\n",
    "normal = \"N1\"\n",
    "tumorsamples = sampleinfo.samplename\n",
    "samples = [tumorsamples..., normal]\n",
    "\n",
    "mutations_string = (DataFrame ∘ CSV.File)(\"experimental_data/DonateProcessed/Ling2015_pairwise_median.csv\")\n",
    "seqdata = SeqDataFormatting.string_to_seqresult(mutations_string, samples);"
   ]
  },
  {
   "cell_type": "code",
   "execution_count": 164,
   "metadata": {},
   "outputs": [],
   "source": [
    "ccf_raw = seqdata_to_tumor(seqdata, sampleinfo; normal = \"N1\", \n",
    "    maxReadsNormal = 0, \n",
    "    minReads = 4,\n",
    "    minCoverage = 15,\n",
    "    maxCoverage = Inf,\n",
    "    cnaAgreement = 22)\n",
    "ccf_raw.frequencies = copy(ccf_raw.ccf);"
   ]
  },
  {
   "cell_type": "code",
   "execution_count": 201,
   "metadata": {},
   "outputs": [
    {
     "ename": "LoadError",
     "evalue": "BoundsError: attempt to access 179-element Vector{Float64} at index [[2, 8, 9, 13, 15, 22, 25, 26, 28, 29  …  479, 482, 489, 498, 503, 508, 515, 517, 520, 526]]",
     "output_type": "error",
     "traceback": [
      "BoundsError: attempt to access 179-element Vector{Float64} at index [[2, 8, 9, 13, 15, 22, 25, 26, 28, 29  …  479, 482, 489, 498, 503, 508, 515, 517, 520, 526]]",
      "",
      "Stacktrace:",
      " [1] throw_boundserror(A::Vector{Float64}, I::Tuple{Vector{Int64}})",
      "   @ Base .\\abstractarray.jl:651",
      " [2] checkbounds",
      "   @ .\\abstractarray.jl:616 [inlined]",
      " [3] _getindex",
      "   @ .\\multidimensional.jl:831 [inlined]",
      " [4] getindex(A::Vector{Float64}, I::Vector{Int64})",
      "   @ Base .\\abstractarray.jl:1170",
      " [5] top-level scope",
      "   @ In[201]:11",
      " [6] eval",
      "   @ .\\boot.jl:360 [inlined]",
      " [7] include_string(mapexpr::typeof(REPL.softscope), mod::Module, code::String, filename::String)",
      "   @ Base .\\loading.jl:1094"
     ]
    }
   ],
   "source": [
    "mutnumb = 500\n",
    "\n",
    "mutations = unique!(vcat(ccf_raw.mutations...))\n",
    "subset = sample(mutations, min(mutnumb, length(mutations)), replace = false)\n",
    "\n",
    "for sample in eachrow(ccf_raw)\n",
    "    select = findall(m -> m in subset, sample.mutations)\n",
    "    sample.mutations = copy(sample.mutations[select])\n",
    "    sample.frequencies = copy(sample.frequencies[select])\n",
    "    sample.vaf = copy(sample.vaf[select])\n",
    "    sample.ccf = copy(sample.ccf[select])\n",
    "    sample.reads = copy(sample.reads[select])\n",
    "    sample.coverage = copy(sample.coverage[select])\n",
    "end"
   ]
  },
  {
   "cell_type": "code",
   "execution_count": 181,
   "metadata": {},
   "outputs": [],
   "source": [
    "# ccf_raw = TumorGrowth.data_import(\"experimental_data/DonateProcessed/CCFtumor.csv\", delim=\";\");"
   ]
  },
  {
   "cell_type": "code",
   "execution_count": 200,
   "metadata": {},
   "outputs": [],
   "source": [
    "ccf_raw = TumorGrowth.data_import(\"experimental_data/DonateProcessed/CCFtumor_strict.csv\", delim=\";\");\n",
    "ccf_raw.frequencies = ccf_raw.ccf;"
   ]
  },
  {
   "cell_type": "code",
   "execution_count": 192,
   "metadata": {},
   "outputs": [],
   "source": [
    "ccf = deepcopy(ccf_raw);"
   ]
  },
  {
   "cell_type": "code",
   "execution_count": 193,
   "metadata": {},
   "outputs": [
    {
     "data": {
      "image/png": "[encoded data removed]"
     },
     "execution_count": 193,
     "metadata": {},
     "output_type": "execute_result"
    }
   ],
   "source": [
    "mtypes, mutations = TumorGrowth.clones_by_mutations(ccf; res=0.0);\n",
    "freqs = Dict( mutations .=> map( mutations ) do m\n",
    "    mean( m in cell.mutations ? cell.vaf[findfirst(isequal(m), cell.mutations)] : 0. for cell in eachrow(ccf) )\n",
    "        end / mean(ccf.purity) )\n",
    "\n",
    "res = 1/400\n",
    "plot( \n",
    "    histogram(filter( f-> 0.8 > f > res, [freqs[m] for m=mutations]), nbins=50, lab=\"\", xlab=:ccf),\n",
    "    M(filter( f-> 0.8 > f > res, [freqs[m] for m=mutations]), nbins=50, lab=\"\"),\n",
    "    size=(600,200)\n",
    ")"
   ]
  },
  {
   "cell_type": "code",
   "execution_count": 194,
   "metadata": {},
   "outputs": [
    {
     "data": {
      "text/plain": [
       "0.10896282501898275"
      ]
     },
     "execution_count": 194,
     "metadata": {},
     "output_type": "execute_result"
    }
   ],
   "source": [
    "Nthresh = 200\n",
    "res = 1/500\n",
    "\n",
    "freqs = SeqDataFormatting.mfreqs(ccf) |> df -> Dict(df.mutation .=> df.frequency)\n",
    "for row in eachrow(ccf)\n",
    "    mask = row.frequencies .>= 1/3\n",
    "    row.mutations = filter(m-> 0.8 > freqs[m] > res, row.mutations[mask])\n",
    "end\n",
    "\n",
    "htypes = unique(ccf.mutations)\n",
    "orphaned_tumor = DataFrame( mutations = unique( filter.(m-> freqs[m] > 1/Nthresh, htypes) ) )\n",
    "estranged_tumor = DataFrame(mutations = filter( muts -> all(  freqs[m] > 1/Nthresh for m in muts), htypes) )\n",
    "\n",
    "# get d\n",
    "W_l = orphaned_red_treeless(orphaned_tumor) |>\n",
    "        df -> sum(df.isorphaned)/sum(df.isgreen)\n",
    "\n",
    "d_solve = min(1., 2*log(Nthresh)*W_l)"
   ]
  },
  {
   "cell_type": "code",
   "execution_count": 195,
   "metadata": {},
   "outputs": [
    {
     "data": {
      "text/plain": [
       "1.1222876307279817"
      ]
     },
     "execution_count": 195,
     "metadata": {},
     "output_type": "execute_result"
    }
   ],
   "source": [
    "1/(1-d_solve)"
   ]
  },
  {
   "cell_type": "code",
   "execution_count": 196,
   "metadata": {},
   "outputs": [
    {
     "data": {
      "text/plain": [
       "0.9999940399006633"
      ]
     },
     "execution_count": 196,
     "metadata": {},
     "output_type": "execute_result"
    }
   ],
   "source": [
    "# get mu\n",
    "\n",
    "Ls = 0.1:0.1:1.\n",
    "reps = 10\n",
    "estranged_tumors = map( Ls ) do L\n",
    "    [TumorGrowth.reduced_μ(estranged_tumor, L) for _=1:reps]\n",
    "end\n",
    "\n",
    "estranged_turnover = map(estranged_tumors) do set\n",
    "        filter!(!isnan, map(set) do tumor\n",
    "            res = estranged_treeless(tumor)\n",
    "            sum(res.isestranged)/sum(res.isgreen)\n",
    "        end )\n",
    "    end\n",
    "\n",
    "Ls, estranged_turnover = .!isempty.(estranged_turnover) |> mask -> (Ls[mask], estranged_turnover[mask])\n",
    "\n",
    "function model(Ls, p)\n",
    "    local mu = p[1]\n",
    "    (mu<=0. || mu>=1.) && return fill(Inf, length(Ls))\n",
    "    map( Ls ) do L\n",
    "        min(1., W_estranged(d_solve; b=1, μ=mu*L, T=log(Nthresh)/(1-d_solve)))\n",
    "    end\n",
    "end\n",
    "\n",
    "fitres = curve_fit(model, Ls, mean.(estranged_turnover), [0.5])\n",
    "mu_fit = fitres.param[1]"
   ]
  },
  {
   "cell_type": "code",
   "execution_count": 281,
   "metadata": {},
   "outputs": [
    {
     "name": "stdout",
     "output_type": "stream",
     "text": [
      "mean fit : 0.2125031986894415\n",
      "averaged fits : 0.23523497245091163 ± 0.0029222090718015125\n"
     ]
    },
    {
     "data": {
      "image/png": "[encoded data removed]"
     },
     "execution_count": 281,
     "metadata": {},
     "output_type": "execute_result"
    }
   ],
   "source": [
    "let d = d_solve\n",
    "    t = estranged_turnover\n",
    "    global Nthresh\n",
    "    function model(Ls, p)\n",
    "        local mu = p[1]\n",
    "        (mu<=0. || mu>=1.) && return fill(Inf, length(Ls))\n",
    "        map( Ls ) do L\n",
    "            min(1., W_estranged(d; b=1., μ=mu*L, T=log(Nthresh)/(1-d)))\n",
    "        end\n",
    "    end\n",
    "    fit = curve_fit(model, Ls, mean.(t), [0.5])\n",
    "    mu_fit = fit.param[1]\n",
    "\n",
    "    p1 = scatter(Ls, mean.(t), ribbon=std.(t), yerror = std.(t)./sqrt.(length.(t)), lab=\"\", xlab=:L, ylab=:turnover, legend=:bottomright)\n",
    "    plot!(Ls, model(Ls, fit.param), lab=\"fit : μ$(round(mu_fit,digits=3))\" )\n",
    "\n",
    "    tvecs = [ rand.(t) for _=1:1000 ]\n",
    "    fits = map( tp-> curve_fit(model, Ls, tp, [0.5]), tvecs)\n",
    "    mu_fits = getindex.(getfield.(fits, :param),1)\n",
    "    p2 = histogram(mu_fits, xlab=\"μ\", lab=\"\")\n",
    "    vline!([mu_fit], lab=\"\")\n",
    "\n",
    "    println(\"mean fit : \", mu_fit)\n",
    "    println(\"averaged fits : \", mean(mu_fits), \" ± \", 1.96*std(mu_fits)/sqrt(length(mu_fits)))\n",
    "    plot(p1, p2, layout=(2,1), size=(500,500))\n",
    "end"
   ]
  },
  {
   "cell_type": "code",
   "execution_count": 52,
   "metadata": {},
   "outputs": [
    {
     "data": {
      "text/plain": [
       "bisection (generic function with 1 method)"
      ]
     },
     "execution_count": 52,
     "metadata": {},
     "output_type": "execute_result"
    }
   ],
   "source": [
    "function bisection(f, interval, iter; precision=1e-9)\n",
    "    xlow, xup = interval\n",
    "    sign(f(xlow)) == sign(f(xup)) && error(\"no zero in interval $interval\")\n",
    "    any((isnan.(f.(interval)))) && error(\"f not defined on interval $interval\")\n",
    "    for i=1:iter\n",
    "        xm = (xlow+xup)/2\n",
    "        abs(f(xm)) < precision && return (xm, i)\n",
    "        if sign(f(xm)) != sign(f(xlow))\n",
    "            xup = xm\n",
    "        else\n",
    "            xlow = xm\n",
    "        end\n",
    "    end\n",
    "    println(xup)\n",
    "    error(\"no convergence within $iter steps\")\n",
    "end"
   ]
  },
  {
   "cell_type": "code",
   "execution_count": 53,
   "metadata": {},
   "outputs": [
    {
     "data": {
      "text/plain": [
       "(0.20766241365112365, 31)"
      ]
     },
     "execution_count": 53,
     "metadata": {},
     "output_type": "execute_result"
    }
   ],
   "source": [
    "# get mu\n",
    "W_c = estranged_treeless(estranged_tumor) |> df -> sum(df.isestranged)/sum(df.isgreen)\n",
    "\n",
    "mu_solve, n = bisection(mu -> min(1., W_estranged(d_solve; b=1, μ=mu, T=log(Nthresh)/(1-d_solve)))- W_c, [0.01,0.99], 100)\n",
    "# mu_solve = fzero(mu -> min(1., W_estranged(d; b=b, μ=mu, T=log(Nthresh)/(b-d)))- W_c, 0.01, 0.99)"
   ]
  },
  {
   "cell_type": "code",
   "execution_count": null,
   "metadata": {},
   "outputs": [],
   "source": []
  },
  {
   "cell_type": "code",
   "execution_count": 283,
   "metadata": {},
   "outputs": [
    {
     "data": {
      "text/plain": [
       "(0.5, 1)"
      ]
     },
     "execution_count": 283,
     "metadata": {},
     "output_type": "execute_result"
    }
   ],
   "source": [
    "# get mu\n",
    "W_c = estranged_treeless(estranged_tumor) |> df -> sum(df.isestranged)/sum(df.isgreen)\n",
    "\n",
    "mu_solve, n = bisection(mu -> min(1., W_estranged(d_solve; b=1, μ=mu, T=log(Nthresh)/(1-d_solve)))- W_c, [0.01,0.99], 100)\n",
    "# mu_solve = fzero(mu -> min(1., W_estranged(d; b=b, μ=mu, T=log(Nthresh)/(b-d)))- W_c, 0.01, 0.99)"
   ]
  },
  {
   "cell_type": "code",
   "execution_count": 16,
   "metadata": {
    "jupyter": {
     "source_hidden": true
    }
   },
   "outputs": [
    {
     "data": {
      "image/png": "[encoded data removed]"
     },
     "execution_count": 16,
     "metadata": {},
     "output_type": "execute_result"
    }
   ],
   "source": [
    "ccf = deepcopy(ccf_raw)\n",
    "ccf.frequencies = ccf.ccf;\n",
    "\n",
    "mtypes, mutations = TumorGrowth.clones_by_mutations(ccf; res=0.0);\n",
    "freqs = Dict( mutations .=> map( mutations ) do m\n",
    "    mean( m in cell.mutations ? cell.vaf[findfirst(isequal(m), cell.mutations)] : 0. for cell in eachrow(ccf) )\n",
    "        end / mean(ccf.purity) )\n",
    "\n",
    "M([freqs[m] for m=mutations], nbins=50, lab=\"\", size=(400,250))\n",
    "plot!(0:300, x-> x*mu_solve/(1-d_solve), lab=L\"\\mu \\beta\", legend=:bottomright)"
   ]
  },
  {
   "cell_type": "code",
   "execution_count": 21,
   "metadata": {},
   "outputs": [
    {
     "name": "stdout",
     "output_type": "stream",
     "text": [
      "q 0.63 | μ 0.327\n"
     ]
    }
   ],
   "source": [
    "println(\"q $(d_solve) | μ $(mu_solve)\" )"
   ]
  },
  {
   "cell_type": "markdown",
   "metadata": {},
   "source": [
    "> Filtersettings <br>\n",
    "> - maxReadsNormal = 0\n",
    "> - minReads = 4\n",
    "> - minCoverage = 15\n",
    "> - maxCoverage = 90\n",
    "> - cnaAgreement = 22"
   ]
  },
  {
   "cell_type": "code",
   "execution_count": 284,
   "metadata": {},
   "outputs": [
    {
     "data": {
      "image/png": "[encoded data removed]"
     },
     "execution_count": 284,
     "metadata": {},
     "output_type": "execute_result"
    }
   ],
   "source": [
    "ccf = deepcopy(ccf_raw)\n",
    "\n",
    "q, mu = d_solve, mu_fit\n",
    "\n",
    "mtypes, mutations = TumorGrowth.clones_by_mutations(ccf; res=0.0);\n",
    "freqs = Dict( mutations .=> map( mutations ) do m\n",
    "    mean( m in cell.mutations ? cell.vaf[findfirst(isequal(m), cell.mutations)] : 0. for cell in eachrow(ccf) )\n",
    "        end / mean(ccf.purity) )\n",
    "\n",
    "M([freqs[m] for m=mutations], nbins=50, lab=\"\", size=(400,250))\n",
    "plot!(0:300, x-> x*mu/(1-q), lab=L\"\\mu \\beta\", legend=:bottomright)"
   ]
  },
  {
   "cell_type": "code",
   "execution_count": null,
   "metadata": {},
   "outputs": [],
   "source": []
  }
 ],
 "metadata": {
  "kernelspec": {
   "display_name": "Julia 1.6.0",
   "language": "julia",
   "name": "julia-1.6"
  },
  "language_info": {
   "file_extension": ".jl",
   "mimetype": "application/julia",
   "name": "julia",
   "version": "1.6.0"
  }
 },
 "nbformat": 4,
 "nbformat_minor": 4
}
