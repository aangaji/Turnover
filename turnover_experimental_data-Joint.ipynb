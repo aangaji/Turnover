{
 "cells": [
  {
   "cell_type": "code",
   "execution_count": 7,
   "metadata": {
    "jupyter": {
     "source_hidden": true
    }
   },
   "outputs": [
    {
     "name": "stderr",
     "output_type": "stream",
     "text": [
      "\u001b[32m\u001b[1m  Activating\u001b[22m\u001b[39m environment at `C:\\Users\\Arman Angaji\\OneDrive - Universität zu Köln\\Dokumente\\Uni-Köln\\Masterarbeit\\Workspace\\Julia_Master\\MasterProject_Julia\\Project.toml`\n"
     ]
    },
    {
     "data": {
      "image/png": "[encoded data removed]"
     },
     "execution_count": 7,
     "metadata": {},
     "output_type": "execute_result"
    }
   ],
   "source": [
    "projectdir = \"C:/Users/Arman Angaji/OneDrive - Universität zu Köln/Dokumente/Uni-Köln/Masterarbeit/Workspace/Julia_Master/MasterProject_Julia/\"\n",
    "cd(projectdir)\n",
    "using Pkg; Pkg.activate(pwd())\n",
    "\n",
    "using DataFrames, StatsBase, Plots, Statistics, LaTeXStrings, Interact, LsqFit, CSV, Blink, Pipe, ProgressMeter, StatsPlots\n",
    "using Distributions, NLsolve, Roots\n",
    "pyplot()\n",
    "\n",
    "try \n",
    "    Turnover\n",
    "catch e\n",
    "    include(projectdir*\"Turnover/Turnover.jl\")\n",
    "    include(projectdir*\"Turnover/test.jl\")\n",
    "    using .Turnover\n",
    "end\n",
    "try\n",
    "    SeqDataFormatting\n",
    "catch e\n",
    "    include(\"experimental_data/SeqDataFormatting.jl\")\n",
    "    using .SeqDataFormatting\n",
    "end\n",
    "\n",
    "import TumorGrowth\n",
    "include(\"distribution_functions.jl\")\n",
    "plot(size=(1,1))"
   ]
  },
  {
   "cell_type": "markdown",
   "metadata": {},
   "source": [
    "  "
   ]
  },
  {
   "cell_type": "markdown",
   "metadata": {},
   "source": [
    "  "
   ]
  },
  {
   "cell_type": "markdown",
   "metadata": {},
   "source": [
    "# Experimental Data"
   ]
  },
  {
   "cell_type": "code",
   "execution_count": 2,
   "metadata": {
    "jupyter": {
     "source_hidden": true
    }
   },
   "outputs": [
    {
     "data": {
      "text/plain": [
       "mes2theory_estranged (generic function with 2 methods)"
      ]
     },
     "execution_count": 2,
     "metadata": {},
     "output_type": "execute_result"
    }
   ],
   "source": [
    "mes2theory_orphaned(t_mes, p = [0.188, 17.688]) = @. p[1]*( 1/(1+exp(-p[2]*t_mes)) -1/2 )\n",
    "# # mes2theory_orphaned(t_mes, p = [-0.264, 2.649]) = @. p[1] + p[2]*t_mes\n",
    "\n",
    "mes2theory_estranged(t_mes, p = [0.603, 1.267]) = map(t_mes) do t\n",
    "# mes2theory_estranged(t_mes, p = [0.804, 1.613]) = map(t_mes) do t\n",
    "    if p[1]/p[2] > 1/2 \n",
    "        10\n",
    "    else\n",
    "        t >= p[1] ? 1. : log( 1/ ( t*1/p[2] + 1/2 ) - 1 ) / log( 1/ ( p[1]/p[2] + 1/2 ) - 1)\n",
    "    end\n",
    "end"
   ]
  },
  {
   "cell_type": "code",
   "execution_count": 3,
   "metadata": {
    "jupyter": {
     "source_hidden": true
    }
   },
   "outputs": [
    {
     "data": {
      "text/plain": [
       "bisection (generic function with 1 method)"
      ]
     },
     "execution_count": 3,
     "metadata": {},
     "output_type": "execute_result"
    }
   ],
   "source": [
    "function bisection(f, interval, iter; precision=1e-9)\n",
    "    xlow, xup = interval\n",
    "    sign(f(xlow)) == sign(f(xup)) && error(\"no zero in interval $interval\")\n",
    "    any((isnan.(f.(interval)))) && error(\"f not defined on interval $interval\")\n",
    "    for i=1:iter\n",
    "        xm = (xlow+xup)/2\n",
    "        abs(f(xm)) < precision && return (xm, i)\n",
    "        if sign(f(xm)) != sign(f(xlow))\n",
    "            xup = xm\n",
    "        else\n",
    "            xlow = xm\n",
    "        end\n",
    "    end\n",
    "    println(xup)\n",
    "    error(\"no convergence within $iter steps\")\n",
    "end"
   ]
  },
  {
   "cell_type": "code",
   "execution_count": 29,
   "metadata": {},
   "outputs": [
    {
     "data": {
      "text/plain": [
       "load_turnovertumors (generic function with 1 method)"
      ]
     },
     "execution_count": 29,
     "metadata": {},
     "output_type": "execute_result"
    }
   ],
   "source": [
    "function load_turnovertumors!(tumor; Nthresh_orph = 10000, Nthresh_estr = Nthresh_orph)\n",
    "    mutations, freqs = SeqDataFormatting.mfreqs(tumor) |> df -> (df.mutation, Dict( df.mutation .=> df.frequency ))\n",
    "    htypes = unique(tumor.mutations)\n",
    "    orphaned_tumor = DataFrame( mutations = unique( filter.(m-> freqs[m] > 1/Nthresh_orph, htypes) ) )\n",
    "    estranged_tumor = DataFrame(mutations = filter( muts -> all(  freqs[m] > 1/Nthresh_estr for m in muts), htypes) )\n",
    "    (orphaned_tumor = orphaned_tumor, estranged_tumor = estranged_tumor)\n",
    "end\n",
    "load_turnovertumors(tumor; kwrgs...) = load_turnovertumors!(deepcopy(tumor); kwrgs...)"
   ]
  },
  {
   "cell_type": "markdown",
   "metadata": {},
   "source": [
    "## Reanalyzed data (joint caller)"
   ]
  },
  {
   "cell_type": "code",
   "execution_count": 5,
   "metadata": {},
   "outputs": [],
   "source": [
    "sampleinfo = TumorGrowth.data_import(\"experimental_data/wes_sampleinfo.csv\", delim=\",\")\n",
    "normal = \"N1\"\n",
    "tumorsamples = sampleinfo.samplename\n",
    "samples = [tumorsamples..., normal]\n",
    "\n",
    "# mutations_string = CSV.read(\"experimental_data/MichelProcessed/Ling2015_pairwise_median.csv\", DataFrame)\n",
    "# mutations_string = CSV.read(\"experimental_data/MichelProcessed/Ling2015_jointcall.csv\", DataFrame)\n",
    "mutations_string = (DataFrame ∘ CSV.File)(\"experimental_data/MichelProcessed/Ling2015_jointcall_pwrecovered.csv\")\n",
    "# mutations_string = (DataFrame ∘ CSV.File)(\"experimental_data/MichelProcessed/Ling2015_pw2joint_intersect.csv\")\n",
    "\n",
    "seqdata = SeqDataFormatting.string_to_seqresult(mutations_string, samples);"
   ]
  },
  {
   "cell_type": "code",
   "execution_count": 161,
   "metadata": {},
   "outputs": [
    {
     "data": {
      "text/plain": [
       "282"
      ]
     },
     "execution_count": 161,
     "metadata": {},
     "output_type": "execute_result"
    }
   ],
   "source": [
    "ccf_raw = seqdata_to_tumor(seqdata, sampleinfo; normal = \"N1\", \n",
    "    maxReadsNormal = 0, \n",
    "    minReads = 5,\n",
    "    minTotCoverage = 150,\n",
    "    cnaAgreement = 0,\n",
    "    allow_xy = true,\n",
    "    cutoff_hi = 0.5,\n",
    "    )\n",
    "ccf_raw.frequencies = copy(ccf_raw.ccf);\n",
    "vcat(ccf_raw.mutations...) |> unique |> length"
   ]
  },
  {
   "cell_type": "code",
   "execution_count": 162,
   "metadata": {},
   "outputs": [],
   "source": [
    "# ccf_raw = TumorGrowth.data_import(\"experimental_data/LingProcessed/experimental_data_WES.csv\"; delim=\"\\t\")\n",
    "# ccf_raw.frequencies = copy(ccf_raw.ccf);"
   ]
  },
  {
   "cell_type": "code",
   "execution_count": 163,
   "metadata": {},
   "outputs": [
    {
     "data": {
      "image/png": "[encoded data removed]"
     },
     "execution_count": 163,
     "metadata": {},
     "output_type": "execute_result"
    }
   ],
   "source": [
    "include(\"distribution_functions.jl\")\n",
    "mutations, freqs = SeqDataFormatting.mfreqs(ccf_raw) |> df -> (df.mutation, Dict( df.mutation .=> df.frequency ))\n",
    "\n",
    "res = 1/100\n",
    "plot( \n",
    "    histogram(filter( f-> 1. > f > res, [freqs[m] for m=mutations]), nbins=50, lab=\"\", xlab=:ccf),\n",
    "    M(filter( f-> 1. > f > res, [freqs[m] for m=mutations]), nbins=50, lab=\"\"),\n",
    "    size=(400,150)\n",
    ")"
   ]
  },
  {
   "cell_type": "markdown",
   "metadata": {},
   "source": [
    "#### PARAMETERS"
   ]
  },
  {
   "cell_type": "code",
   "execution_count": 172,
   "metadata": {},
   "outputs": [
    {
     "name": "stdout",
     "output_type": "stream",
     "text": [
      "20\n",
      "14\n",
      "9\n"
     ]
    }
   ],
   "source": [
    "turnover_params = ( Nthresh_orph = 35, Nthresh_estr = 15, )\n",
    "filter_params =  (cutoff_low = 1/80, sample_cutoff_low = 1/3, )\n",
    "mutnumb = 20\n",
    "\n",
    "ccf = deepcopy(ccf_raw)\n",
    "filter_by_freq!(ccf; filter_params...)\n",
    "subsample!(ccf; nmuts = mutnumb)\n",
    "\n",
    "vcat(ccf.mutations...) |> unique |> length |> println\n",
    "orphaned_tumor, estranged_tumor = load_turnovertumors(ccf; turnover_params...)\n",
    "vcat(orphaned_tumor.mutations...) |> unique |> length |> println\n",
    "vcat(estranged_tumor.mutations...) |> unique |> length |> println"
   ]
  },
  {
   "cell_type": "code",
   "execution_count": 173,
   "metadata": {},
   "outputs": [
    {
     "data": {
      "image/png": "[encoded data removed]"
     },
     "execution_count": 173,
     "metadata": {},
     "output_type": "execute_result"
    }
   ],
   "source": [
    "mutations, freqs = SeqDataFormatting.mfreqs(ccf) |> df -> (df.mutation, Dict( df.mutation .=> df.frequency ))\n",
    "\n",
    "res = 1/70\n",
    "plot( \n",
    "    histogram(filter( f-> 1. > f > res, [freqs[m] for m=mutations]), nbins=50, lab=\"\", xlab=:ccf),\n",
    "    M(filter( f-> 1. > f > res, [freqs[m] for m=mutations]), nbins=50, lab=\"\"),\n",
    "    size=(400,150)\n",
    ")"
   ]
  },
  {
   "cell_type": "markdown",
   "metadata": {},
   "source": [
    "  "
   ]
  },
  {
   "cell_type": "markdown",
   "metadata": {},
   "source": [
    "### single tumor"
   ]
  },
  {
   "cell_type": "code",
   "execution_count": 174,
   "metadata": {
    "jupyter": {
     "source_hidden": true
    }
   },
   "outputs": [
    {
     "name": "stdout",
     "output_type": "stream",
     "text": [
      "0.0 d: 0.0\n"
     ]
    },
    {
     "data": {
      "image/png": "[encoded data removed]"
     },
     "execution_count": 174,
     "metadata": {},
     "output_type": "execute_result"
    }
   ],
   "source": [
    "# get d\n",
    "W_l = orphaned_red_treeless(orphaned_tumor) |>\n",
    "        df -> sum(df.isorphaned)/sum(df.isgreen)\n",
    "W_l_corrected = W_l  #|> mes2theory_orphaned\n",
    "\n",
    "d_solve = min(1., 2*log(turnover_params[:Nthresh_orph])*W_l_corrected)\n",
    "\n",
    "println(W_l_corrected, \" d: \", d_solve)\n",
    "\n",
    "plot(0.0:0.01:1., d-> W_orphaned(d; N = turnover_params[:Nthresh_orph])\n",
    "    , size=(200,150), xlim=(0,1), ylim=(0,1), lab=\"\")\n",
    "scatter!([d_solve], [W_l], lab=\"\", c=:red)\n",
    "scatter!([d_solve], [W_l_corrected], lab=\"\", c=:red)"
   ]
  },
  {
   "cell_type": "code",
   "execution_count": 175,
   "metadata": {
    "jupyter": {
     "source_hidden": true
    }
   },
   "outputs": [
    {
     "data": {
      "image/png": "[encoded data removed]"
     },
     "execution_count": 175,
     "metadata": {},
     "output_type": "execute_result"
    }
   ],
   "source": [
    "ds = map( 5:1:turnover_params[:Nthresh_orph]) do M\n",
    "    # get d\n",
    "    W_l = orphaned_red_treeless(orphaned_tumor) |>\n",
    "        df -> sum(df.isorphaned)/sum(df.isgreen)\n",
    "\n",
    "    min(1., 2*log(M)*W_l)\n",
    "end\n",
    "histogram(ds, bins=0.:0.1:1., size=(200,150), lab=\"\")\n",
    "vline!([median(filter(!isone,ds))], lab=\"\", lw=3., grid=false)"
   ]
  },
  {
   "cell_type": "code",
   "execution_count": 179,
   "metadata": {},
   "outputs": [
    {
     "data": {
      "text/plain": [
       "0.0001"
      ]
     },
     "execution_count": 179,
     "metadata": {},
     "output_type": "execute_result"
    }
   ],
   "source": [
    "d_solve = 0.0001"
   ]
  },
  {
   "cell_type": "code",
   "execution_count": 180,
   "metadata": {},
   "outputs": [
    {
     "name": "stdout",
     "output_type": "stream",
     "text": [
      "W_c: 1.0 mu: 0.9999999999999998\n"
     ]
    },
    {
     "data": {
      "image/png": "[encoded data removed]"
     },
     "execution_count": 180,
     "metadata": {},
     "output_type": "execute_result"
    }
   ],
   "source": [
    "# get mu\n",
    "W_c = estranged_treeless(estranged_tumor) |> df -> sum(df.isestranged)/sum(df.isgreen)\n",
    "mu_solve = try\n",
    "    fzero(mu -> min(1., W_estranged(d_solve; b=1, μ=mu, T=log(turnover_params[:Nthresh_estr])/(1-d_solve)))- W_c, eps(), 1-eps())\n",
    "    catch e\n",
    "        NaN\n",
    "end\n",
    "println(\"W_c: \", W_c, \" mu: \", mu_solve)\n",
    "\n",
    "plot(0.0:0.01:1., mu-> W_estranged(d_solve; b=1, μ=mu, T=log(turnover_params[:Nthresh_estr])/(1-d_solve)),\n",
    "    size=(200,150), xlim=(0,1), ylim=(0,1), lab=\"\")\n",
    "hline!([W_c], lab=\"\", c=:red, lw=2)\n",
    "vline!([mu_solve], lab=\"\", c=:red, lw=2, style=:dash)"
   ]
  },
  {
   "cell_type": "code",
   "execution_count": 171,
   "metadata": {
    "jupyter": {
     "source_hidden": true
    }
   },
   "outputs": [
    {
     "data": {
      "text/plain": [
       "0.9999984884675462"
      ]
     },
     "execution_count": 171,
     "metadata": {},
     "output_type": "execute_result"
    }
   ],
   "source": [
    "# get mu\n",
    "Ls = 0.5:0.1:1.\n",
    "reps = 50\n",
    "estranged_tumors = map( Ls ) do L\n",
    "    [TumorGrowth.reduced_μ(estranged_tumor, L) for _=1:reps]\n",
    "end\n",
    "\n",
    "estranged_turnover = map(estranged_tumors) do set\n",
    "        filter!(!isnan, map(set) do tumor\n",
    "            res = estranged_treeless(tumor)\n",
    "            sum(res.isestranged)/sum(res.isgreen) #|> mes2theory_estranged\n",
    "        end )\n",
    "    end\n",
    "\n",
    "Ls, estranged_turnover = .!isempty.(estranged_turnover) |> mask -> (Ls[mask], estranged_turnover[mask])\n",
    "\n",
    "function model(Ls, p)\n",
    "    local mu = p[1]\n",
    "    (mu<=0. || mu>=1.) && return fill(Inf, length(Ls))\n",
    "    map( Ls ) do L\n",
    "        min(1., W_estranged(d_solve; b=1, μ=mu*L, T=log(turnover_params[:Nthresh_estr])/(1-d_solve)))\n",
    "    end\n",
    "end\n",
    "\n",
    "fitres = curve_fit(model, Ls, mean.(estranged_turnover), [(1-d_solve)/2])\n",
    "mu_fit = fitres.param[1]"
   ]
  },
  {
   "cell_type": "code",
   "execution_count": 187,
   "metadata": {},
   "outputs": [
    {
     "name": "stdout",
     "output_type": "stream",
     "text": [
      "mean fit : 0.3720116861128763\n",
      "averaged fits : 0.3444028549436775 ± 0.009531696948079187\n"
     ]
    },
    {
     "data": {
      "image/png": "[encoded data removed]"
     },
     "execution_count": 187,
     "metadata": {},
     "output_type": "execute_result"
    }
   ],
   "source": [
    "let d = d_solve\n",
    "    t = estranged_turnover\n",
    "    global Nthresh\n",
    "    function model(Ls, p)\n",
    "        local mu = p[1]\n",
    "        (mu<=0. || mu>=1.) && return fill(Inf, length(Ls))\n",
    "        map( Ls ) do L\n",
    "            min(1., W_estranged(d; b=1., μ=mu*L, T=log(turnover_params[:Nthresh_estr])/(1-d)))\n",
    "        end\n",
    "    end\n",
    "    fit = curve_fit(model, Ls, mean.(t), [(1-d)/2])\n",
    "    mu_fit = fit.param[1]\n",
    "\n",
    "    p1 = scatter(Ls, mean.(t), ribbon=std.(t), yerror = std.(t)./sqrt.(length.(t)), lab=\"\", xlab=:L, ylab=:turnover, legend=:bottomright, ylim=(0,1))\n",
    "    plot!(Ls, model(Ls, fit.param), lab=\"fit : μ$(round(mu_fit,digits=3))\" )\n",
    "\n",
    "    tvecs = [ rand.(t) for _=1:1000 ]\n",
    "    fits = map( tp-> curve_fit(model, Ls, tp, [(1-d)/2]), tvecs)\n",
    "    mu_fits = getindex.(getfield.(fits, :param),1)\n",
    "    p2 = histogram(mu_fits, xlab=\"μ\", lab=\"\")\n",
    "    vline!([mu_fit], lab=\"\")\n",
    "\n",
    "    println(\"mean fit : \", mu_fit)\n",
    "    println(\"averaged fits : \", mean(mu_fits), \" ± \", 1.96*std(mu_fits)/sqrt(length(mu_fits)))\n",
    "    plot(p1, p2, layout=(2,1), size=(350,350))\n",
    "end"
   ]
  },
  {
   "cell_type": "code",
   "execution_count": 62,
   "metadata": {
    "jupyter": {
     "source_hidden": true
    }
   },
   "outputs": [
    {
     "name": "stdout",
     "output_type": "stream",
     "text": [
      "mean fit : 0.4751729766333367\n",
      "averaged fits : 0.5239440814267328 ± 0.010803534175947413\n"
     ]
    },
    {
     "data": {
      "image/png": "[encoded data removed]"
     },
     "execution_count": 62,
     "metadata": {},
     "output_type": "execute_result"
    }
   ],
   "source": [
    "let d = d_solve\n",
    "    t = estranged_turnover\n",
    "    global Nthresh\n",
    "    function model(Ls, p)\n",
    "        local mu = p[1]\n",
    "        (mu<=0. || mu>=1.) && return fill(Inf, length(Ls))\n",
    "        map( Ls ) do L\n",
    "            min(1., W_estranged(d; b=1., μ=mu*L, T=log(turnover_params[:Nthresh_estr])/(1-d)))\n",
    "        end\n",
    "    end\n",
    "    fit = curve_fit(model, Ls, mean.(t), [(1-d)/2])\n",
    "    mu_fit = fit.param[1]\n",
    "\n",
    "    p1 = scatter(Ls, mean.(t), ribbon=std.(t), yerror = std.(t)./sqrt.(length.(t)), lab=\"\", xlab=:L, ylab=:turnover, legend=:bottomright, ylim=(0,1))\n",
    "    plot!(Ls, model(Ls, fit.param), lab=\"fit : μ$(round(mu_fit,digits=3))\" )\n",
    "\n",
    "    tvecs = [ rand.(t) for _=1:1000 ]\n",
    "    fits = map( tp-> curve_fit(model, Ls, tp, [(1-d)/2]), tvecs)\n",
    "    mu_fits = getindex.(getfield.(fits, :param),1)\n",
    "    p2 = histogram(mu_fits, xlab=\"μ\", lab=\"\")\n",
    "    vline!([mu_fit], lab=\"\")\n",
    "\n",
    "    println(\"mean fit : \", mu_fit)\n",
    "    println(\"averaged fits : \", mean(mu_fits), \" ± \", 1.96*std(mu_fits)/sqrt(length(mu_fits)))\n",
    "    plot(p1, p2, layout=(2,1), size=(350,350))\n",
    "end"
   ]
  },
  {
   "cell_type": "code",
   "execution_count": 190,
   "metadata": {},
   "outputs": [
    {
     "data": {
      "text/plain": [
       "0.18110977118518848"
      ]
     },
     "execution_count": 190,
     "metadata": {},
     "output_type": "execute_result"
    }
   ],
   "source": []
  },
  {
   "cell_type": "code",
   "execution_count": 191,
   "metadata": {},
   "outputs": [
    {
     "data": {
      "text/plain": [
       "(0.8, 0.3720116861128763)"
      ]
     },
     "execution_count": 191,
     "metadata": {},
     "output_type": "execute_result"
    }
   ],
   "source": [
    "d_solve, mu_fit"
   ]
  },
  {
   "cell_type": "code",
   "execution_count": 192,
   "metadata": {},
   "outputs": [
    {
     "data": {
      "image/png": "[encoded data removed]"
     },
     "execution_count": 192,
     "metadata": {},
     "output_type": "execute_result"
    }
   ],
   "source": [
    "mutations, freqs = SeqDataFormatting.mfreqs(ccf) |> df -> (df.mutation, Dict( df.mutation .=> df.frequency ))\n",
    "\n",
    "M([freqs[m] for m=mutations], nbins=50, lab=\"\", size=(400,250))\n",
    "plot!(0:60, x-> x*mu_solve/(1-d_solve), lab=L\"\\mu \\beta\", legend=:bottomright)"
   ]
  },
  {
   "cell_type": "markdown",
   "metadata": {},
   "source": [
    "  "
   ]
  },
  {
   "cell_type": "markdown",
   "metadata": {},
   "source": [
    "  "
   ]
  },
  {
   "cell_type": "markdown",
   "metadata": {},
   "source": [
    "## Subsampling single tumor"
   ]
  },
  {
   "cell_type": "code",
   "execution_count": 69,
   "metadata": {
    "jupyter": {
     "source_hidden": true
    }
   },
   "outputs": [
    {
     "data": {
      "text/plain": [
       "correct_estr (generic function with 2 methods)"
      ]
     },
     "execution_count": 69,
     "metadata": {},
     "output_type": "execute_result"
    }
   ],
   "source": [
    "# offspring_clade_fit, orphaned_clade_fit = [-3.1393344953000137, 0.3694065504550832], [0.28213233319606085, 0.9337963349045757]\n",
    "# offspring_clone_fit, estranged_clone_fit = [2.0460394588109088, 0.27062540749285335], [1.742873794475777, 0.3815998563513362]\n",
    "\n",
    "# n 30, Nthresh_orph 200, Nthresh_estr 50, res 1/200, 1/3\n",
    "\n",
    "offspring_clade_fit, orphaned_clade_fit, offspring_clone_fit, estranged_clone_fit = [0,1],[0,1],[0,1],[0,1]\n",
    "\n",
    "function correct_orph(df_orph, p = [offspring_clade_fit, orphaned_clade_fit])\n",
    "    max(0, sum(df_orph.isorphaned)- p[2][1]) / p[2][2] / (sum(df_orph.isgreen) - p[1][1]) * p[1][2]\n",
    "end\n",
    "function correct_estr(df_estr, p = [offspring_clone_fit, estranged_clone_fit])\n",
    "    max(0, sum(df_estr.isestranged)- p[2][1]) / p[2][2] / (sum(df_estr.isgreen) - p[1][1]) * p[1][2]\n",
    "end"
   ]
  },
  {
   "cell_type": "markdown",
   "metadata": {},
   "source": [
    "### relative death rate $d/b$"
   ]
  },
  {
   "cell_type": "code",
   "execution_count": 190,
   "metadata": {},
   "outputs": [
    {
     "name": "stdout",
     "output_type": "stream",
     "text": [
      "0.11545637777739783\n",
      "89 %\n"
     ]
    },
    {
     "data": {
      "image/png": "[encoded data removed]"
     },
     "execution_count": 190,
     "metadata": {},
     "output_type": "execute_result"
    }
   ],
   "source": [
    "let mutnumb = 30\n",
    "    dsolves = map(1:500) do _\n",
    "        \n",
    "        ccf = deepcopy(ccf_raw)\n",
    "        filter_by_freq!(ccf; filter_params...)\n",
    "        subsample!(ccf; nmuts = mutnumb)\n",
    "        orphaned_tumor, estranged_tumor = load_turnovertumors(ccf; turnover_params...)\n",
    "        \n",
    "        # get d\n",
    "        W_l = orphaned_red_treeless(orphaned_tumor)  |> df -> sum(df.isorphaned)/sum(df.isgreen)\n",
    "\n",
    "        min(1., 2*log(turnover_params[:Nthresh_orph])*W_l)\n",
    "    end\n",
    "    histogram(dsolves, legend=:none, size=(400,200), alpha=0.4, bins=0:0.1:1, xlim=(-0.5,1.1), ylim=(0,200), xlab=:dfit)\n",
    "    histogram!(filter(x-> !(1>x>0), dsolves), legend=:none, size=(400,200), bins = -1:0.1:2, alpha=0.4)\n",
    "    results = filter(x-> 1>x>0, dsolves)\n",
    "    vline!([mean(results)], lw=2.)\n",
    "    println(mean(results))\n",
    "    println(ceil(Int, length(results)/length(dsolves)*100 ), \" %\")\n",
    "    plot!()\n",
    "end"
   ]
  },
  {
   "cell_type": "markdown",
   "metadata": {},
   "source": [
    "> uncorrected"
   ]
  },
  {
   "cell_type": "code",
   "execution_count": 191,
   "metadata": {},
   "outputs": [
    {
     "data": {
      "text/plain": [
       "1.1764705882352942"
      ]
     },
     "execution_count": 191,
     "metadata": {},
     "output_type": "execute_result"
    }
   ],
   "source": [
    "d_solve = 0.15\n",
    "1/(1-d_solve)"
   ]
  },
  {
   "cell_type": "markdown",
   "metadata": {},
   "source": [
    "  "
   ]
  },
  {
   "cell_type": "markdown",
   "metadata": {},
   "source": [
    "### mutation rate $\\mu$"
   ]
  },
  {
   "cell_type": "markdown",
   "metadata": {},
   "source": [
    "### *fit*"
   ]
  },
  {
   "cell_type": "code",
   "execution_count": 192,
   "metadata": {
    "jupyter": {
     "source_hidden": true
    }
   },
   "outputs": [
    {
     "name": "stdout",
     "output_type": "stream",
     "text": [
      "0.9700892092616253\n",
      "100 %\n"
     ]
    },
    {
     "data": {
      "image/png": "[encoded data removed]"
     },
     "execution_count": 192,
     "metadata": {},
     "output_type": "execute_result"
    }
   ],
   "source": [
    "let mutnumb = 30\n",
    "    mufits = map(1:500) do _\n",
    "        \n",
    "        ccf = deepcopy(ccf_raw)\n",
    "        filter_by_freq!(ccf; filter_params...)\n",
    "        subsample!(ccf; nmuts = mutnumb)\n",
    "        \n",
    "        # get mu\n",
    "\n",
    "        Ls = 0.3:0.1:1.\n",
    "        reps = 10\n",
    "        estranged_tumors = map( Ls ) do L\n",
    "            [TumorGrowth.reduced_μ(estranged_tumor, L) for _=1:reps]\n",
    "        end\n",
    "\n",
    "        estranged_turnover = map(estranged_tumors) do set\n",
    "                filter!(!isnan, map(set) do tumor\n",
    "                    estranged_treeless(tumor) |>  df -> sum(df.isestranged)/sum(df.isgreen)\n",
    "                    end ) \n",
    "            end\n",
    "\n",
    "        Ls, estranged_turnover = .!isempty.(estranged_turnover) |> mask -> (Ls[mask], estranged_turnover[mask])\n",
    "        if isempty(Ls)\n",
    "            missing\n",
    "        else\n",
    "            function model(Ls, p)\n",
    "                local mu = p[1]\n",
    "                (mu<=0. || mu>=1.) && return fill(Inf, length(Ls))\n",
    "                map( Ls ) do L\n",
    "                    min(1., W_estranged(d_solve; b=1, μ=mu*L, T=log(turnover_params[:Nthresh_estr])/(1-d_solve)))\n",
    "                end\n",
    "            end\n",
    "\n",
    "            fitres = curve_fit(model, Ls, mean.(estranged_turnover), [(1-d_solve)/2])\n",
    "            fitres.param[1] ≈ (1-d_solve)/2 ? 1. : fitres.param[1]\n",
    "        end\n",
    "    end\n",
    "    filter!(!ismissing, mufits)\n",
    "    histogram(mufits, legend=:none, size=(400,250), nbins=20, alpha=0.4, xlim=(0,1), xlab=L\"\\mu_{\\mathrm{fit}}\", tickfontsize=12, labelfontsize=18, grid=false)\n",
    "    results = filter(x-> !(iszero(x) || isone(x)), mufits)\n",
    "    vline!([mean(results)], lw=2.)\n",
    "    println(mean(results))\n",
    "    println(ceil(Int, length(results)/length(mufits)*100 ), \" %\")\n",
    "    plot!()\n",
    "end"
   ]
  },
  {
   "cell_type": "markdown",
   "metadata": {},
   "source": [
    "> uncorrected"
   ]
  },
  {
   "cell_type": "markdown",
   "metadata": {},
   "source": [
    "### *solve*"
   ]
  },
  {
   "cell_type": "code",
   "execution_count": 193,
   "metadata": {
    "jupyter": {
     "source_hidden": true
    }
   },
   "outputs": [
    {
     "name": "stdout",
     "output_type": "stream",
     "text": [
      "0.7579513978967635\n",
      "27 %\n"
     ]
    },
    {
     "data": {
      "image/png": "[encoded data removed]"
     },
     "execution_count": 193,
     "metadata": {},
     "output_type": "execute_result"
    }
   ],
   "source": [
    "let mutnumb = 30\n",
    "    mufits = map(1:500) do _\n",
    "        \n",
    "        ccf = deepcopy(ccf_raw)\n",
    "        filter_by_freq!(ccf; filter_params...)\n",
    "        subsample!(ccf; nmuts = mutnumb)\n",
    "        orphaned_tumor, estranged_tumor = load_turnovertumors(ccf; turnover_params...)\n",
    "        \n",
    "        # get mu\n",
    "        W_c = estranged_treeless(estranged_tumor) |> df -> sum(df.isestranged)/sum(df.isgreen)\n",
    "    \n",
    "        try\n",
    "#             mu_solve, n = bisection(mu -> min(1., W_estranged(d_solve; b=1, μ=mu, T=log(turnover_params[:Nthresh_estr])/(1-d_solve)))- W_c, [0.01,0.99], 100)\n",
    "            mu_solve = fzero(mu -> min(1., W_estranged(d_solve; b=1., μ=mu, T=log(turnover_params[:Nthresh_estr])/(1-d_solve)))- W_c, 0.01, 0.99)\n",
    "        catch e\n",
    "            0.99\n",
    "        end\n",
    "                \n",
    "    end\n",
    "    \n",
    "    results = filter(x-> !(x == 0.01 || x == 0.99), mufits)\n",
    "    histogram(results, legend=:none, size=(400,250), alpha=0.4, xlim=(0,1), xlab=L\"\\mu_{\\mathrm{fit}}\",\n",
    "        tickfontsize=12, labelfontsize=18, grid=false, ylims=(0,:auto), margin=5Plots.mm, bins=0:0.1:1.)\n",
    "    vline!([mean(results)], lw=2.)\n",
    "    println(mean(results))\n",
    "    println(ceil(Int, length(results)/length(mufits)*100 ), \" %\")\n",
    "    plot!()\n",
    "end"
   ]
  },
  {
   "cell_type": "code",
   "execution_count": 106,
   "metadata": {},
   "outputs": [
    {
     "data": {
      "text/plain": [
       "0.8"
      ]
     },
     "execution_count": 106,
     "metadata": {},
     "output_type": "execute_result"
    }
   ],
   "source": [
    "d_solve"
   ]
  },
  {
   "cell_type": "code",
   "execution_count": 111,
   "metadata": {},
   "outputs": [
    {
     "data": {
      "text/plain": [
       "0.7000000000000002"
      ]
     },
     "execution_count": 111,
     "metadata": {},
     "output_type": "execute_result"
    }
   ],
   "source": [
    "d_solve = 0.8\n",
    "mu_solve = 0.14\n",
    "mu_solve/(1-d_solve)"
   ]
  },
  {
   "cell_type": "code",
   "execution_count": 112,
   "metadata": {},
   "outputs": [
    {
     "data": {
      "image/png": "[encoded data removed]"
     },
     "execution_count": 112,
     "metadata": {},
     "output_type": "execute_result"
    }
   ],
   "source": [
    "let mutnumb = 40\n",
    "    fig = plot(size=(400,250), legend=:none, tickfontsize=12, labelfontsize=13, grid=false, ylims=(0,:auto), margin=5Plots.mm)\n",
    "    for _=1:200\n",
    "        ccf = deepcopy(ccf_raw)\n",
    "        filter_by_freq!(ccf; filter_params...)\n",
    "        subsample!(ccf; nmuts = mutnumb)\n",
    "\n",
    "        mutations, freqs = SeqDataFormatting.mfreqs(ccf) |> df -> (df.mutation, Dict( df.mutation .=> df.frequency ))\n",
    "\n",
    "        M!(fig, [freqs[m] for m=mutations], nbins=50, lab=\"\", size=(400,250), res=1/300, c=:lightblue, xlab=L\"1/f\", ylab=L\"M(f)\")\n",
    "        \n",
    "    end\n",
    "    plot!(0:1/filter_params[:cutoff_low], x-> x*mu_solve/(1-d_solve), lab=L\"\\mu \\beta\", lw=2., c=:red)\n",
    "end"
   ]
  },
  {
   "cell_type": "markdown",
   "metadata": {},
   "source": [
    "  "
   ]
  },
  {
   "cell_type": "markdown",
   "metadata": {},
   "source": [
    "  "
   ]
  }
 ],
 "metadata": {
  "kernelspec": {
   "display_name": "Julia 1.6.0",
   "language": "julia",
   "name": "julia-1.6"
  },
  "language_info": {
   "file_extension": ".jl",
   "mimetype": "application/julia",
   "name": "julia",
   "version": "1.6.0"
  }
 },
 "nbformat": 4,
 "nbformat_minor": 4
}
